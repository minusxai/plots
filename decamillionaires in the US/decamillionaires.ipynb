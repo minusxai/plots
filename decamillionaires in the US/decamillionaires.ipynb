{
  "metadata": {
    "kernelspec": {
      "name": "python",
      "display_name": "Python (Pyodide)",
      "language": "python"
    },
    "language_info": {
      "codemirror_mode": {
        "name": "python",
        "version": 3
      },
      "file_extension": ".py",
      "mimetype": "text/x-python",
      "name": "python",
      "nbconvert_exporter": "python",
      "pygments_lexer": "ipython3",
      "version": "3.8"
    }
  },
  "nbformat_minor": 4,
  "nbformat": 4,
  "cells": [
    {
      "cell_type": "code",
      "source": "# jupyterlite setup stuff\nimport piplite\nawait piplite.install([\"distutils\", \"ipywidgets==7.7.0\", \"bqplot==0.12.30\", \"plotly==5.8.0\", \"scikit-learn\"])",
      "metadata": {
        "trusted": true
      },
      "outputs": [],
      "execution_count": 3
    },
    {
      "cell_type": "code",
      "source": "import pandas as pd\ndf = pd.read_csv('data.csv')\ndf.head()",
      "metadata": {
        "trusted": true
      },
      "outputs": [
        {
          "execution_count": 14,
          "output_type": "execute_result",
          "data": {
            "text/plain": "        State Code Decamillionaires Total Wealth  Population  \\\n0     Alabama   AL            1,329       44,551   5,024,294   \n1     Arizona   AZ            3,637       95,484   7,157,902   \n2    Arkansas   AR            2,374       48,645   3,011,490   \n3  California   CA           38,202    1,575,494  39,538,212   \n4    Colorado   CO            2,474      117,496   5,773,707   \n\n   DecamillionairesPer10000People  \n0                        2.645148  \n1                        5.081098  \n2                        7.883141  \n3                        9.662045  \n4                        4.284942  ",
            "text/html": "<div>\n<style scoped>\n    .dataframe tbody tr th:only-of-type {\n        vertical-align: middle;\n    }\n\n    .dataframe tbody tr th {\n        vertical-align: top;\n    }\n\n    .dataframe thead th {\n        text-align: right;\n    }\n</style>\n<table border=\"1\" class=\"dataframe\">\n  <thead>\n    <tr style=\"text-align: right;\">\n      <th></th>\n      <th>State</th>\n      <th>Code</th>\n      <th>Decamillionaires</th>\n      <th>Total Wealth</th>\n      <th>Population</th>\n      <th>DecamillionairesPer10000People</th>\n    </tr>\n  </thead>\n  <tbody>\n    <tr>\n      <th>0</th>\n      <td>Alabama</td>\n      <td>AL</td>\n      <td>1,329</td>\n      <td>44,551</td>\n      <td>5,024,294</td>\n      <td>2.645148</td>\n    </tr>\n    <tr>\n      <th>1</th>\n      <td>Arizona</td>\n      <td>AZ</td>\n      <td>3,637</td>\n      <td>95,484</td>\n      <td>7,157,902</td>\n      <td>5.081098</td>\n    </tr>\n    <tr>\n      <th>2</th>\n      <td>Arkansas</td>\n      <td>AR</td>\n      <td>2,374</td>\n      <td>48,645</td>\n      <td>3,011,490</td>\n      <td>7.883141</td>\n    </tr>\n    <tr>\n      <th>3</th>\n      <td>California</td>\n      <td>CA</td>\n      <td>38,202</td>\n      <td>1,575,494</td>\n      <td>39,538,212</td>\n      <td>9.662045</td>\n    </tr>\n    <tr>\n      <th>4</th>\n      <td>Colorado</td>\n      <td>CO</td>\n      <td>2,474</td>\n      <td>117,496</td>\n      <td>5,773,707</td>\n      <td>4.284942</td>\n    </tr>\n  </tbody>\n</table>\n</div>"
          },
          "metadata": {}
        }
      ],
      "execution_count": 14
    },
    {
      "cell_type": "code",
      "source": "import plotly.express as px\nimport numpy as np\n\n# Enlarge the figure and show the number of decamillionaires on each state\nfig = px.choropleth(\n    df,\n    locations='Code',\n    locationmode='USA-states',\n    color='DecamillionairesPer10000People',\n    hover_name='State',\n    hover_data={'DecamillionairesPer10000People': False, 'Decamillionaires': True, 'Total Wealth': True, 'Population': True},\n    color_continuous_scale='Viridis',\n    scope='usa',\n    title='Decamillionaires per 10,000 People by State',\n    width=1000,  # Reduce the width\n    height=600   # Reduce the height\n)\n\n# Add text annotations for the number of decamillionaires\nfor i, row in df.iterrows():\n    # Determine text color based on the color scale\n    color_value = row['DecamillionairesPer10000People']\n    text_color = 'black' if color_value > 6 else 'white'\n    fig.add_scattergeo(\n        locations=[row['Code']],\n        locationmode='USA-states',\n        text=f\"<b>{int(np.ceil(row['DecamillionairesPer10000People']))}</b>\",\n        mode='text',\n        textfont=dict(size=12, color=text_color),\n        showlegend=False\n    )\n\n# Update layout to use full span and add legend\nfig.update_layout(\n    geo=dict(\n        projection_scale=1.0,  # Use full span of the figure\n    ),\n    legend_title_text='Decamillionaires per 10,000 People'\n)\n\nfig.show()",
      "metadata": {
        "trusted": true
      },
      "outputs": [
        {
          "output_type": "display_data",
          "data": {
            "application/vnd.plotly.v1+json": {
              "data": [
                {
                  "coloraxis": "coloraxis",
                  "customdata": [
                    [
                      2.645147756,
                      1329,
                      "44,551",
                      "5,024,294"
                    ],
                    [
                      5.081097785,
                      3637,
                      "95,484",
                      "7,157,902"
                    ],
                    [
                      7.883140904,
                      2374,
                      "48,645",
                      "3,011,490"
                    ],
                    [
                      9.662045416,
                      38202,
                      "1,575,494",
                      "39,538,212"
                    ],
                    [
                      4.284942066,
                      2474,
                      "117,496",
                      "5,773,707"
                    ],
                    [
                      7.873181597,
                      2839,
                      "86,200",
                      "3,605,912"
                    ],
                    [
                      3.000163645,
                      297,
                      "8,819",
                      "989,946"
                    ],
                    [
                      7.860221478,
                      542,
                      "19,705",
                      "689,548"
                    ],
                    [
                      9.609430976,
                      20697,
                      "687,113",
                      "21,538,216"
                    ],
                    [
                      1.884490531,
                      2019,
                      "56,730",
                      "10,713,771"
                    ],
                    [
                      1.869063833,
                      272,
                      "12,128",
                      "1,455,274"
                    ],
                    [
                      7.949467054,
                      1462,
                      "62,667",
                      "1,839,117"
                    ],
                    [
                      5.622989372,
                      7205,
                      "232,440",
                      "12,813,469"
                    ],
                    [
                      6.827852924,
                      4633,
                      "91,407",
                      "6,785,442"
                    ],
                    [
                      2.983926603,
                      952,
                      "23,084",
                      "3,190,427"
                    ],
                    [
                      4.76201012,
                      1399,
                      "37,909",
                      "2,937,835"
                    ],
                    [
                      8.155254747,
                      3675,
                      "65,638",
                      "4,506,297"
                    ],
                    [
                      5.717309837,
                      2663,
                      "71,359",
                      "4,657,785"
                    ],
                    [
                      5.773278158,
                      787,
                      "14,337",
                      "1,363,177"
                    ],
                    [
                      4.851671123,
                      2997,
                      "57,496",
                      "6,177,253"
                    ],
                    [
                      6.325952487,
                      4449,
                      "114,561",
                      "7,032,933"
                    ],
                    [
                      4.940624196,
                      4979,
                      "95,722",
                      "10,077,674"
                    ],
                    [
                      5.135974531,
                      2931,
                      "57,538",
                      "5,706,804"
                    ],
                    [
                      3.765230611,
                      1115,
                      "19,612",
                      "2,961,306"
                    ],
                    [
                      3.37130369,
                      2075,
                      "93,153",
                      "6,154,889"
                    ],
                    [
                      6.649794696,
                      721,
                      "13,651",
                      "1,084,244"
                    ],
                    [
                      2.971510705,
                      583,
                      "26,538",
                      "1,961,965"
                    ],
                    [
                      4.921702097,
                      1528,
                      "28,840",
                      "3,104,617"
                    ],
                    [
                      5.524404656,
                      761,
                      "14,761",
                      "1,377,524"
                    ],
                    [
                      5.369769682,
                      4988,
                      "141,977",
                      "9,289,039"
                    ],
                    [
                      1.468695765,
                      311,
                      "7,073",
                      "2,117,525"
                    ],
                    [
                      9.313781783,
                      18816,
                      "912,105",
                      "20,202,320"
                    ],
                    [
                      3.22813663,
                      3370,
                      "79,255",
                      "10,439,459"
                    ],
                    [
                      11.73180127,
                      914,
                      "22,056",
                      "779,079"
                    ],
                    [
                      4.332449018,
                      5112,
                      "129,642",
                      "11,799,331"
                    ],
                    [
                      2.581192001,
                      1022,
                      "31,953",
                      "3,959,411"
                    ],
                    [
                      3.554167663,
                      1506,
                      "49,061",
                      "4,237,279"
                    ],
                    [
                      7.589141652,
                      9868,
                      "282,548",
                      "13,002,788"
                    ],
                    [
                      2.774292546,
                      1420,
                      "33,368",
                      "5,118,422"
                    ],
                    [
                      1.725561315,
                      153,
                      "3,802",
                      "886,668"
                    ],
                    [
                      3.038728156,
                      2100,
                      "51,053",
                      "6,910,786"
                    ],
                    [
                      6.902275926,
                      20117,
                      "600,809",
                      "29,145,459"
                    ],
                    [
                      1.931768234,
                      632,
                      "14,650",
                      "3,271,614"
                    ],
                    [
                      7.261960854,
                      467,
                      "41,301",
                      "643,077"
                    ],
                    [
                      3.539413718,
                      3055,
                      "92,292",
                      "8,631,373"
                    ],
                    [
                      7.092551108,
                      5465,
                      "216,860",
                      "7,705,267"
                    ],
                    [
                      0.7637788208,
                      137,
                      "2,199",
                      "1,793,713"
                    ],
                    [
                      4.167152354,
                      2456,
                      "86,240",
                      "5,893,713"
                    ],
                    [
                      10.67868597,
                      616,
                      "152,097",
                      "576,850"
                    ]
                  ],
                  "geo": "geo",
                  "hovertemplate": "<b>%{hovertext}</b><br><br>Code=%{location}<br>Decamillionaires=%{customdata[1]}<br>Total Wealth=%{customdata[2]}<br>Population=%{customdata[3]}<extra></extra>",
                  "hovertext": [
                    "Alabama",
                    "Arizona",
                    "Arkansas",
                    "California",
                    "Colorado",
                    "Connecticut",
                    "Delaware",
                    "District of Columbia",
                    "Florida",
                    "Georgia",
                    "Hawaii",
                    "Idaho",
                    "Illinois",
                    "Indiana",
                    "Iowa",
                    "Kansas",
                    "Kentucky",
                    "Louisiana",
                    "Maine",
                    "Maryland",
                    "Massachusetts",
                    "Michigan",
                    "Minnesota",
                    "Mississippi",
                    "Missouri",
                    "Montana",
                    "Nebraska",
                    "Nevada",
                    "New Hampshire",
                    "New Jersey",
                    "New Mexico",
                    "New York",
                    "North Carolina",
                    "North Dakota",
                    "Ohio",
                    "Oklahoma",
                    "Oregon",
                    "Pennsylvania",
                    "South Carolina",
                    "South Dakota",
                    "Tennessee",
                    "Texas",
                    "Utah",
                    "Vermont",
                    "Virginia",
                    "Washington",
                    "West Virginia",
                    "Wisconsin",
                    "Wyoming"
                  ],
                  "locationmode": "USA-states",
                  "locations": [
                    "AL",
                    "AZ",
                    "AR",
                    "CA",
                    "CO",
                    "CT",
                    "DE",
                    "DC",
                    "FL",
                    "GA",
                    "HI",
                    "ID",
                    "IL",
                    "IN",
                    "IA",
                    "KS",
                    "KY",
                    "LA",
                    "ME",
                    "MD",
                    "MA",
                    "MI",
                    "MN",
                    "MS",
                    "MO",
                    "MT",
                    "NE",
                    "NV",
                    "NH",
                    "NJ",
                    "NM",
                    "NY",
                    "NC",
                    "ND",
                    "OH",
                    "OK",
                    "OR",
                    "PA",
                    "SC",
                    "SD",
                    "TN",
                    "TX",
                    "UT",
                    "VT",
                    "VA",
                    "WA",
                    "WV",
                    "WI",
                    "WY"
                  ],
                  "name": "",
                  "z": [
                    2.645147756,
                    5.081097785,
                    7.883140904,
                    9.662045416,
                    4.284942066,
                    7.873181597,
                    3.000163645,
                    7.860221478,
                    9.609430976,
                    1.884490531,
                    1.869063833,
                    7.949467054,
                    5.622989372,
                    6.827852924,
                    2.983926603,
                    4.76201012,
                    8.155254747,
                    5.717309837,
                    5.773278158,
                    4.851671123,
                    6.325952487,
                    4.940624196,
                    5.135974531,
                    3.765230611,
                    3.37130369,
                    6.649794696,
                    2.971510705,
                    4.921702097,
                    5.524404656,
                    5.369769682,
                    1.468695765,
                    9.313781783,
                    3.22813663,
                    11.73180127,
                    4.332449018,
                    2.581192001,
                    3.554167663,
                    7.589141652,
                    2.774292546,
                    1.725561315,
                    3.038728156,
                    6.902275926,
                    1.931768234,
                    7.261960854,
                    3.539413718,
                    7.092551108,
                    0.7637788208,
                    4.167152354,
                    10.67868597
                  ],
                  "type": "choropleth"
                },
                {
                  "locationmode": "USA-states",
                  "locations": [
                    "AL"
                  ],
                  "mode": "text",
                  "showlegend": false,
                  "text": "<b>3</b>",
                  "textfont": {
                    "color": "white",
                    "size": 12
                  },
                  "type": "scattergeo"
                },
                {
                  "locationmode": "USA-states",
                  "locations": [
                    "AZ"
                  ],
                  "mode": "text",
                  "showlegend": false,
                  "text": "<b>6</b>",
                  "textfont": {
                    "color": "white",
                    "size": 12
                  },
                  "type": "scattergeo"
                },
                {
                  "locationmode": "USA-states",
                  "locations": [
                    "AR"
                  ],
                  "mode": "text",
                  "showlegend": false,
                  "text": "<b>8</b>",
                  "textfont": {
                    "color": "black",
                    "size": 12
                  },
                  "type": "scattergeo"
                },
                {
                  "locationmode": "USA-states",
                  "locations": [
                    "CA"
                  ],
                  "mode": "text",
                  "showlegend": false,
                  "text": "<b>10</b>",
                  "textfont": {
                    "color": "black",
                    "size": 12
                  },
                  "type": "scattergeo"
                },
                {
                  "locationmode": "USA-states",
                  "locations": [
                    "CO"
                  ],
                  "mode": "text",
                  "showlegend": false,
                  "text": "<b>5</b>",
                  "textfont": {
                    "color": "white",
                    "size": 12
                  },
                  "type": "scattergeo"
                },
                {
                  "locationmode": "USA-states",
                  "locations": [
                    "CT"
                  ],
                  "mode": "text",
                  "showlegend": false,
                  "text": "<b>8</b>",
                  "textfont": {
                    "color": "black",
                    "size": 12
                  },
                  "type": "scattergeo"
                },
                {
                  "locationmode": "USA-states",
                  "locations": [
                    "DE"
                  ],
                  "mode": "text",
                  "showlegend": false,
                  "text": "<b>4</b>",
                  "textfont": {
                    "color": "white",
                    "size": 12
                  },
                  "type": "scattergeo"
                },
                {
                  "locationmode": "USA-states",
                  "locations": [
                    "DC"
                  ],
                  "mode": "text",
                  "showlegend": false,
                  "text": "<b>8</b>",
                  "textfont": {
                    "color": "black",
                    "size": 12
                  },
                  "type": "scattergeo"
                },
                {
                  "locationmode": "USA-states",
                  "locations": [
                    "FL"
                  ],
                  "mode": "text",
                  "showlegend": false,
                  "text": "<b>10</b>",
                  "textfont": {
                    "color": "black",
                    "size": 12
                  },
                  "type": "scattergeo"
                },
                {
                  "locationmode": "USA-states",
                  "locations": [
                    "GA"
                  ],
                  "mode": "text",
                  "showlegend": false,
                  "text": "<b>2</b>",
                  "textfont": {
                    "color": "white",
                    "size": 12
                  },
                  "type": "scattergeo"
                },
                {
                  "locationmode": "USA-states",
                  "locations": [
                    "HI"
                  ],
                  "mode": "text",
                  "showlegend": false,
                  "text": "<b>2</b>",
                  "textfont": {
                    "color": "white",
                    "size": 12
                  },
                  "type": "scattergeo"
                },
                {
                  "locationmode": "USA-states",
                  "locations": [
                    "ID"
                  ],
                  "mode": "text",
                  "showlegend": false,
                  "text": "<b>8</b>",
                  "textfont": {
                    "color": "black",
                    "size": 12
                  },
                  "type": "scattergeo"
                },
                {
                  "locationmode": "USA-states",
                  "locations": [
                    "IL"
                  ],
                  "mode": "text",
                  "showlegend": false,
                  "text": "<b>6</b>",
                  "textfont": {
                    "color": "white",
                    "size": 12
                  },
                  "type": "scattergeo"
                },
                {
                  "locationmode": "USA-states",
                  "locations": [
                    "IN"
                  ],
                  "mode": "text",
                  "showlegend": false,
                  "text": "<b>7</b>",
                  "textfont": {
                    "color": "black",
                    "size": 12
                  },
                  "type": "scattergeo"
                },
                {
                  "locationmode": "USA-states",
                  "locations": [
                    "IA"
                  ],
                  "mode": "text",
                  "showlegend": false,
                  "text": "<b>3</b>",
                  "textfont": {
                    "color": "white",
                    "size": 12
                  },
                  "type": "scattergeo"
                },
                {
                  "locationmode": "USA-states",
                  "locations": [
                    "KS"
                  ],
                  "mode": "text",
                  "showlegend": false,
                  "text": "<b>5</b>",
                  "textfont": {
                    "color": "white",
                    "size": 12
                  },
                  "type": "scattergeo"
                },
                {
                  "locationmode": "USA-states",
                  "locations": [
                    "KY"
                  ],
                  "mode": "text",
                  "showlegend": false,
                  "text": "<b>9</b>",
                  "textfont": {
                    "color": "black",
                    "size": 12
                  },
                  "type": "scattergeo"
                },
                {
                  "locationmode": "USA-states",
                  "locations": [
                    "LA"
                  ],
                  "mode": "text",
                  "showlegend": false,
                  "text": "<b>6</b>",
                  "textfont": {
                    "color": "white",
                    "size": 12
                  },
                  "type": "scattergeo"
                },
                {
                  "locationmode": "USA-states",
                  "locations": [
                    "ME"
                  ],
                  "mode": "text",
                  "showlegend": false,
                  "text": "<b>6</b>",
                  "textfont": {
                    "color": "white",
                    "size": 12
                  },
                  "type": "scattergeo"
                },
                {
                  "locationmode": "USA-states",
                  "locations": [
                    "MD"
                  ],
                  "mode": "text",
                  "showlegend": false,
                  "text": "<b>5</b>",
                  "textfont": {
                    "color": "white",
                    "size": 12
                  },
                  "type": "scattergeo"
                },
                {
                  "locationmode": "USA-states",
                  "locations": [
                    "MA"
                  ],
                  "mode": "text",
                  "showlegend": false,
                  "text": "<b>7</b>",
                  "textfont": {
                    "color": "black",
                    "size": 12
                  },
                  "type": "scattergeo"
                },
                {
                  "locationmode": "USA-states",
                  "locations": [
                    "MI"
                  ],
                  "mode": "text",
                  "showlegend": false,
                  "text": "<b>5</b>",
                  "textfont": {
                    "color": "white",
                    "size": 12
                  },
                  "type": "scattergeo"
                },
                {
                  "locationmode": "USA-states",
                  "locations": [
                    "MN"
                  ],
                  "mode": "text",
                  "showlegend": false,
                  "text": "<b>6</b>",
                  "textfont": {
                    "color": "white",
                    "size": 12
                  },
                  "type": "scattergeo"
                },
                {
                  "locationmode": "USA-states",
                  "locations": [
                    "MS"
                  ],
                  "mode": "text",
                  "showlegend": false,
                  "text": "<b>4</b>",
                  "textfont": {
                    "color": "white",
                    "size": 12
                  },
                  "type": "scattergeo"
                },
                {
                  "locationmode": "USA-states",
                  "locations": [
                    "MO"
                  ],
                  "mode": "text",
                  "showlegend": false,
                  "text": "<b>4</b>",
                  "textfont": {
                    "color": "white",
                    "size": 12
                  },
                  "type": "scattergeo"
                },
                {
                  "locationmode": "USA-states",
                  "locations": [
                    "MT"
                  ],
                  "mode": "text",
                  "showlegend": false,
                  "text": "<b>7</b>",
                  "textfont": {
                    "color": "black",
                    "size": 12
                  },
                  "type": "scattergeo"
                },
                {
                  "locationmode": "USA-states",
                  "locations": [
                    "NE"
                  ],
                  "mode": "text",
                  "showlegend": false,
                  "text": "<b>3</b>",
                  "textfont": {
                    "color": "white",
                    "size": 12
                  },
                  "type": "scattergeo"
                },
                {
                  "locationmode": "USA-states",
                  "locations": [
                    "NV"
                  ],
                  "mode": "text",
                  "showlegend": false,
                  "text": "<b>5</b>",
                  "textfont": {
                    "color": "white",
                    "size": 12
                  },
                  "type": "scattergeo"
                },
                {
                  "locationmode": "USA-states",
                  "locations": [
                    "NH"
                  ],
                  "mode": "text",
                  "showlegend": false,
                  "text": "<b>6</b>",
                  "textfont": {
                    "color": "white",
                    "size": 12
                  },
                  "type": "scattergeo"
                },
                {
                  "locationmode": "USA-states",
                  "locations": [
                    "NJ"
                  ],
                  "mode": "text",
                  "showlegend": false,
                  "text": "<b>6</b>",
                  "textfont": {
                    "color": "white",
                    "size": 12
                  },
                  "type": "scattergeo"
                },
                {
                  "locationmode": "USA-states",
                  "locations": [
                    "NM"
                  ],
                  "mode": "text",
                  "showlegend": false,
                  "text": "<b>2</b>",
                  "textfont": {
                    "color": "white",
                    "size": 12
                  },
                  "type": "scattergeo"
                },
                {
                  "locationmode": "USA-states",
                  "locations": [
                    "NY"
                  ],
                  "mode": "text",
                  "showlegend": false,
                  "text": "<b>10</b>",
                  "textfont": {
                    "color": "black",
                    "size": 12
                  },
                  "type": "scattergeo"
                },
                {
                  "locationmode": "USA-states",
                  "locations": [
                    "NC"
                  ],
                  "mode": "text",
                  "showlegend": false,
                  "text": "<b>4</b>",
                  "textfont": {
                    "color": "white",
                    "size": 12
                  },
                  "type": "scattergeo"
                },
                {
                  "locationmode": "USA-states",
                  "locations": [
                    "ND"
                  ],
                  "mode": "text",
                  "showlegend": false,
                  "text": "<b>12</b>",
                  "textfont": {
                    "color": "black",
                    "size": 12
                  },
                  "type": "scattergeo"
                },
                {
                  "locationmode": "USA-states",
                  "locations": [
                    "OH"
                  ],
                  "mode": "text",
                  "showlegend": false,
                  "text": "<b>5</b>",
                  "textfont": {
                    "color": "white",
                    "size": 12
                  },
                  "type": "scattergeo"
                },
                {
                  "locationmode": "USA-states",
                  "locations": [
                    "OK"
                  ],
                  "mode": "text",
                  "showlegend": false,
                  "text": "<b>3</b>",
                  "textfont": {
                    "color": "white",
                    "size": 12
                  },
                  "type": "scattergeo"
                },
                {
                  "locationmode": "USA-states",
                  "locations": [
                    "OR"
                  ],
                  "mode": "text",
                  "showlegend": false,
                  "text": "<b>4</b>",
                  "textfont": {
                    "color": "white",
                    "size": 12
                  },
                  "type": "scattergeo"
                },
                {
                  "locationmode": "USA-states",
                  "locations": [
                    "PA"
                  ],
                  "mode": "text",
                  "showlegend": false,
                  "text": "<b>8</b>",
                  "textfont": {
                    "color": "black",
                    "size": 12
                  },
                  "type": "scattergeo"
                },
                {
                  "locationmode": "USA-states",
                  "locations": [
                    "SC"
                  ],
                  "mode": "text",
                  "showlegend": false,
                  "text": "<b>3</b>",
                  "textfont": {
                    "color": "white",
                    "size": 12
                  },
                  "type": "scattergeo"
                },
                {
                  "locationmode": "USA-states",
                  "locations": [
                    "SD"
                  ],
                  "mode": "text",
                  "showlegend": false,
                  "text": "<b>2</b>",
                  "textfont": {
                    "color": "white",
                    "size": 12
                  },
                  "type": "scattergeo"
                },
                {
                  "locationmode": "USA-states",
                  "locations": [
                    "TN"
                  ],
                  "mode": "text",
                  "showlegend": false,
                  "text": "<b>4</b>",
                  "textfont": {
                    "color": "white",
                    "size": 12
                  },
                  "type": "scattergeo"
                },
                {
                  "locationmode": "USA-states",
                  "locations": [
                    "TX"
                  ],
                  "mode": "text",
                  "showlegend": false,
                  "text": "<b>7</b>",
                  "textfont": {
                    "color": "black",
                    "size": 12
                  },
                  "type": "scattergeo"
                },
                {
                  "locationmode": "USA-states",
                  "locations": [
                    "UT"
                  ],
                  "mode": "text",
                  "showlegend": false,
                  "text": "<b>2</b>",
                  "textfont": {
                    "color": "white",
                    "size": 12
                  },
                  "type": "scattergeo"
                },
                {
                  "locationmode": "USA-states",
                  "locations": [
                    "VT"
                  ],
                  "mode": "text",
                  "showlegend": false,
                  "text": "<b>8</b>",
                  "textfont": {
                    "color": "black",
                    "size": 12
                  },
                  "type": "scattergeo"
                },
                {
                  "locationmode": "USA-states",
                  "locations": [
                    "VA"
                  ],
                  "mode": "text",
                  "showlegend": false,
                  "text": "<b>4</b>",
                  "textfont": {
                    "color": "white",
                    "size": 12
                  },
                  "type": "scattergeo"
                },
                {
                  "locationmode": "USA-states",
                  "locations": [
                    "WA"
                  ],
                  "mode": "text",
                  "showlegend": false,
                  "text": "<b>8</b>",
                  "textfont": {
                    "color": "black",
                    "size": 12
                  },
                  "type": "scattergeo"
                },
                {
                  "locationmode": "USA-states",
                  "locations": [
                    "WV"
                  ],
                  "mode": "text",
                  "showlegend": false,
                  "text": "<b>1</b>",
                  "textfont": {
                    "color": "white",
                    "size": 12
                  },
                  "type": "scattergeo"
                },
                {
                  "locationmode": "USA-states",
                  "locations": [
                    "WI"
                  ],
                  "mode": "text",
                  "showlegend": false,
                  "text": "<b>5</b>",
                  "textfont": {
                    "color": "white",
                    "size": 12
                  },
                  "type": "scattergeo"
                },
                {
                  "locationmode": "USA-states",
                  "locations": [
                    "WY"
                  ],
                  "mode": "text",
                  "showlegend": false,
                  "text": "<b>11</b>",
                  "textfont": {
                    "color": "black",
                    "size": 12
                  },
                  "type": "scattergeo"
                }
              ],
              "layout": {
                "template": {
                  "data": {
                    "histogram2dcontour": [
                      {
                        "type": "histogram2dcontour",
                        "colorbar": {
                          "outlinewidth": 0,
                          "ticks": ""
                        },
                        "colorscale": [
                          [
                            0,
                            "#0d0887"
                          ],
                          [
                            0.1111111111111111,
                            "#46039f"
                          ],
                          [
                            0.2222222222222222,
                            "#7201a8"
                          ],
                          [
                            0.3333333333333333,
                            "#9c179e"
                          ],
                          [
                            0.4444444444444444,
                            "#bd3786"
                          ],
                          [
                            0.5555555555555556,
                            "#d8576b"
                          ],
                          [
                            0.6666666666666666,
                            "#ed7953"
                          ],
                          [
                            0.7777777777777778,
                            "#fb9f3a"
                          ],
                          [
                            0.8888888888888888,
                            "#fdca26"
                          ],
                          [
                            1,
                            "#f0f921"
                          ]
                        ]
                      }
                    ],
                    "choropleth": [
                      {
                        "type": "choropleth",
                        "colorbar": {
                          "outlinewidth": 0,
                          "ticks": ""
                        }
                      }
                    ],
                    "histogram2d": [
                      {
                        "type": "histogram2d",
                        "colorbar": {
                          "outlinewidth": 0,
                          "ticks": ""
                        },
                        "colorscale": [
                          [
                            0,
                            "#0d0887"
                          ],
                          [
                            0.1111111111111111,
                            "#46039f"
                          ],
                          [
                            0.2222222222222222,
                            "#7201a8"
                          ],
                          [
                            0.3333333333333333,
                            "#9c179e"
                          ],
                          [
                            0.4444444444444444,
                            "#bd3786"
                          ],
                          [
                            0.5555555555555556,
                            "#d8576b"
                          ],
                          [
                            0.6666666666666666,
                            "#ed7953"
                          ],
                          [
                            0.7777777777777778,
                            "#fb9f3a"
                          ],
                          [
                            0.8888888888888888,
                            "#fdca26"
                          ],
                          [
                            1,
                            "#f0f921"
                          ]
                        ]
                      }
                    ],
                    "heatmap": [
                      {
                        "type": "heatmap",
                        "colorbar": {
                          "outlinewidth": 0,
                          "ticks": ""
                        },
                        "colorscale": [
                          [
                            0,
                            "#0d0887"
                          ],
                          [
                            0.1111111111111111,
                            "#46039f"
                          ],
                          [
                            0.2222222222222222,
                            "#7201a8"
                          ],
                          [
                            0.3333333333333333,
                            "#9c179e"
                          ],
                          [
                            0.4444444444444444,
                            "#bd3786"
                          ],
                          [
                            0.5555555555555556,
                            "#d8576b"
                          ],
                          [
                            0.6666666666666666,
                            "#ed7953"
                          ],
                          [
                            0.7777777777777778,
                            "#fb9f3a"
                          ],
                          [
                            0.8888888888888888,
                            "#fdca26"
                          ],
                          [
                            1,
                            "#f0f921"
                          ]
                        ]
                      }
                    ],
                    "heatmapgl": [
                      {
                        "type": "heatmapgl",
                        "colorbar": {
                          "outlinewidth": 0,
                          "ticks": ""
                        },
                        "colorscale": [
                          [
                            0,
                            "#0d0887"
                          ],
                          [
                            0.1111111111111111,
                            "#46039f"
                          ],
                          [
                            0.2222222222222222,
                            "#7201a8"
                          ],
                          [
                            0.3333333333333333,
                            "#9c179e"
                          ],
                          [
                            0.4444444444444444,
                            "#bd3786"
                          ],
                          [
                            0.5555555555555556,
                            "#d8576b"
                          ],
                          [
                            0.6666666666666666,
                            "#ed7953"
                          ],
                          [
                            0.7777777777777778,
                            "#fb9f3a"
                          ],
                          [
                            0.8888888888888888,
                            "#fdca26"
                          ],
                          [
                            1,
                            "#f0f921"
                          ]
                        ]
                      }
                    ],
                    "contourcarpet": [
                      {
                        "type": "contourcarpet",
                        "colorbar": {
                          "outlinewidth": 0,
                          "ticks": ""
                        }
                      }
                    ],
                    "contour": [
                      {
                        "type": "contour",
                        "colorbar": {
                          "outlinewidth": 0,
                          "ticks": ""
                        },
                        "colorscale": [
                          [
                            0,
                            "#0d0887"
                          ],
                          [
                            0.1111111111111111,
                            "#46039f"
                          ],
                          [
                            0.2222222222222222,
                            "#7201a8"
                          ],
                          [
                            0.3333333333333333,
                            "#9c179e"
                          ],
                          [
                            0.4444444444444444,
                            "#bd3786"
                          ],
                          [
                            0.5555555555555556,
                            "#d8576b"
                          ],
                          [
                            0.6666666666666666,
                            "#ed7953"
                          ],
                          [
                            0.7777777777777778,
                            "#fb9f3a"
                          ],
                          [
                            0.8888888888888888,
                            "#fdca26"
                          ],
                          [
                            1,
                            "#f0f921"
                          ]
                        ]
                      }
                    ],
                    "surface": [
                      {
                        "type": "surface",
                        "colorbar": {
                          "outlinewidth": 0,
                          "ticks": ""
                        },
                        "colorscale": [
                          [
                            0,
                            "#0d0887"
                          ],
                          [
                            0.1111111111111111,
                            "#46039f"
                          ],
                          [
                            0.2222222222222222,
                            "#7201a8"
                          ],
                          [
                            0.3333333333333333,
                            "#9c179e"
                          ],
                          [
                            0.4444444444444444,
                            "#bd3786"
                          ],
                          [
                            0.5555555555555556,
                            "#d8576b"
                          ],
                          [
                            0.6666666666666666,
                            "#ed7953"
                          ],
                          [
                            0.7777777777777778,
                            "#fb9f3a"
                          ],
                          [
                            0.8888888888888888,
                            "#fdca26"
                          ],
                          [
                            1,
                            "#f0f921"
                          ]
                        ]
                      }
                    ],
                    "mesh3d": [
                      {
                        "type": "mesh3d",
                        "colorbar": {
                          "outlinewidth": 0,
                          "ticks": ""
                        }
                      }
                    ],
                    "scatter": [
                      {
                        "fillpattern": {
                          "fillmode": "overlay",
                          "size": 10,
                          "solidity": 0.2
                        },
                        "type": "scatter"
                      }
                    ],
                    "parcoords": [
                      {
                        "type": "parcoords",
                        "line": {
                          "colorbar": {
                            "outlinewidth": 0,
                            "ticks": ""
                          }
                        }
                      }
                    ],
                    "scatterpolargl": [
                      {
                        "type": "scatterpolargl",
                        "marker": {
                          "colorbar": {
                            "outlinewidth": 0,
                            "ticks": ""
                          }
                        }
                      }
                    ],
                    "bar": [
                      {
                        "error_x": {
                          "color": "#2a3f5f"
                        },
                        "error_y": {
                          "color": "#2a3f5f"
                        },
                        "marker": {
                          "line": {
                            "color": "#E5ECF6",
                            "width": 0.5
                          },
                          "pattern": {
                            "fillmode": "overlay",
                            "size": 10,
                            "solidity": 0.2
                          }
                        },
                        "type": "bar"
                      }
                    ],
                    "scattergeo": [
                      {
                        "type": "scattergeo",
                        "marker": {
                          "colorbar": {
                            "outlinewidth": 0,
                            "ticks": ""
                          }
                        }
                      }
                    ],
                    "scatterpolar": [
                      {
                        "type": "scatterpolar",
                        "marker": {
                          "colorbar": {
                            "outlinewidth": 0,
                            "ticks": ""
                          }
                        }
                      }
                    ],
                    "histogram": [
                      {
                        "marker": {
                          "pattern": {
                            "fillmode": "overlay",
                            "size": 10,
                            "solidity": 0.2
                          }
                        },
                        "type": "histogram"
                      }
                    ],
                    "scattergl": [
                      {
                        "type": "scattergl",
                        "marker": {
                          "colorbar": {
                            "outlinewidth": 0,
                            "ticks": ""
                          }
                        }
                      }
                    ],
                    "scatter3d": [
                      {
                        "type": "scatter3d",
                        "line": {
                          "colorbar": {
                            "outlinewidth": 0,
                            "ticks": ""
                          }
                        },
                        "marker": {
                          "colorbar": {
                            "outlinewidth": 0,
                            "ticks": ""
                          }
                        }
                      }
                    ],
                    "scattermapbox": [
                      {
                        "type": "scattermapbox",
                        "marker": {
                          "colorbar": {
                            "outlinewidth": 0,
                            "ticks": ""
                          }
                        }
                      }
                    ],
                    "scatterternary": [
                      {
                        "type": "scatterternary",
                        "marker": {
                          "colorbar": {
                            "outlinewidth": 0,
                            "ticks": ""
                          }
                        }
                      }
                    ],
                    "scattercarpet": [
                      {
                        "type": "scattercarpet",
                        "marker": {
                          "colorbar": {
                            "outlinewidth": 0,
                            "ticks": ""
                          }
                        }
                      }
                    ],
                    "carpet": [
                      {
                        "aaxis": {
                          "endlinecolor": "#2a3f5f",
                          "gridcolor": "white",
                          "linecolor": "white",
                          "minorgridcolor": "white",
                          "startlinecolor": "#2a3f5f"
                        },
                        "baxis": {
                          "endlinecolor": "#2a3f5f",
                          "gridcolor": "white",
                          "linecolor": "white",
                          "minorgridcolor": "white",
                          "startlinecolor": "#2a3f5f"
                        },
                        "type": "carpet"
                      }
                    ],
                    "table": [
                      {
                        "cells": {
                          "fill": {
                            "color": "#EBF0F8"
                          },
                          "line": {
                            "color": "white"
                          }
                        },
                        "header": {
                          "fill": {
                            "color": "#C8D4E3"
                          },
                          "line": {
                            "color": "white"
                          }
                        },
                        "type": "table"
                      }
                    ],
                    "barpolar": [
                      {
                        "marker": {
                          "line": {
                            "color": "#E5ECF6",
                            "width": 0.5
                          },
                          "pattern": {
                            "fillmode": "overlay",
                            "size": 10,
                            "solidity": 0.2
                          }
                        },
                        "type": "barpolar"
                      }
                    ],
                    "pie": [
                      {
                        "automargin": true,
                        "type": "pie"
                      }
                    ]
                  },
                  "layout": {
                    "autotypenumbers": "strict",
                    "colorway": [
                      "#636efa",
                      "#EF553B",
                      "#00cc96",
                      "#ab63fa",
                      "#FFA15A",
                      "#19d3f3",
                      "#FF6692",
                      "#B6E880",
                      "#FF97FF",
                      "#FECB52"
                    ],
                    "font": {
                      "color": "#2a3f5f"
                    },
                    "hovermode": "closest",
                    "hoverlabel": {
                      "align": "left"
                    },
                    "paper_bgcolor": "white",
                    "plot_bgcolor": "#E5ECF6",
                    "polar": {
                      "bgcolor": "#E5ECF6",
                      "angularaxis": {
                        "gridcolor": "white",
                        "linecolor": "white",
                        "ticks": ""
                      },
                      "radialaxis": {
                        "gridcolor": "white",
                        "linecolor": "white",
                        "ticks": ""
                      }
                    },
                    "ternary": {
                      "bgcolor": "#E5ECF6",
                      "aaxis": {
                        "gridcolor": "white",
                        "linecolor": "white",
                        "ticks": ""
                      },
                      "baxis": {
                        "gridcolor": "white",
                        "linecolor": "white",
                        "ticks": ""
                      },
                      "caxis": {
                        "gridcolor": "white",
                        "linecolor": "white",
                        "ticks": ""
                      }
                    },
                    "coloraxis": {
                      "colorbar": {
                        "outlinewidth": 0,
                        "ticks": ""
                      }
                    },
                    "colorscale": {
                      "sequential": [
                        [
                          0,
                          "#0d0887"
                        ],
                        [
                          0.1111111111111111,
                          "#46039f"
                        ],
                        [
                          0.2222222222222222,
                          "#7201a8"
                        ],
                        [
                          0.3333333333333333,
                          "#9c179e"
                        ],
                        [
                          0.4444444444444444,
                          "#bd3786"
                        ],
                        [
                          0.5555555555555556,
                          "#d8576b"
                        ],
                        [
                          0.6666666666666666,
                          "#ed7953"
                        ],
                        [
                          0.7777777777777778,
                          "#fb9f3a"
                        ],
                        [
                          0.8888888888888888,
                          "#fdca26"
                        ],
                        [
                          1,
                          "#f0f921"
                        ]
                      ],
                      "sequentialminus": [
                        [
                          0,
                          "#0d0887"
                        ],
                        [
                          0.1111111111111111,
                          "#46039f"
                        ],
                        [
                          0.2222222222222222,
                          "#7201a8"
                        ],
                        [
                          0.3333333333333333,
                          "#9c179e"
                        ],
                        [
                          0.4444444444444444,
                          "#bd3786"
                        ],
                        [
                          0.5555555555555556,
                          "#d8576b"
                        ],
                        [
                          0.6666666666666666,
                          "#ed7953"
                        ],
                        [
                          0.7777777777777778,
                          "#fb9f3a"
                        ],
                        [
                          0.8888888888888888,
                          "#fdca26"
                        ],
                        [
                          1,
                          "#f0f921"
                        ]
                      ],
                      "diverging": [
                        [
                          0,
                          "#8e0152"
                        ],
                        [
                          0.1,
                          "#c51b7d"
                        ],
                        [
                          0.2,
                          "#de77ae"
                        ],
                        [
                          0.3,
                          "#f1b6da"
                        ],
                        [
                          0.4,
                          "#fde0ef"
                        ],
                        [
                          0.5,
                          "#f7f7f7"
                        ],
                        [
                          0.6,
                          "#e6f5d0"
                        ],
                        [
                          0.7,
                          "#b8e186"
                        ],
                        [
                          0.8,
                          "#7fbc41"
                        ],
                        [
                          0.9,
                          "#4d9221"
                        ],
                        [
                          1,
                          "#276419"
                        ]
                      ]
                    },
                    "xaxis": {
                      "gridcolor": "white",
                      "linecolor": "white",
                      "ticks": "",
                      "title": {
                        "standoff": 15
                      },
                      "zerolinecolor": "white",
                      "automargin": true,
                      "zerolinewidth": 2
                    },
                    "yaxis": {
                      "gridcolor": "white",
                      "linecolor": "white",
                      "ticks": "",
                      "title": {
                        "standoff": 15
                      },
                      "zerolinecolor": "white",
                      "automargin": true,
                      "zerolinewidth": 2
                    },
                    "scene": {
                      "xaxis": {
                        "backgroundcolor": "#E5ECF6",
                        "gridcolor": "white",
                        "linecolor": "white",
                        "showbackground": true,
                        "ticks": "",
                        "zerolinecolor": "white",
                        "gridwidth": 2
                      },
                      "yaxis": {
                        "backgroundcolor": "#E5ECF6",
                        "gridcolor": "white",
                        "linecolor": "white",
                        "showbackground": true,
                        "ticks": "",
                        "zerolinecolor": "white",
                        "gridwidth": 2
                      },
                      "zaxis": {
                        "backgroundcolor": "#E5ECF6",
                        "gridcolor": "white",
                        "linecolor": "white",
                        "showbackground": true,
                        "ticks": "",
                        "zerolinecolor": "white",
                        "gridwidth": 2
                      }
                    },
                    "shapedefaults": {
                      "line": {
                        "color": "#2a3f5f"
                      }
                    },
                    "annotationdefaults": {
                      "arrowcolor": "#2a3f5f",
                      "arrowhead": 0,
                      "arrowwidth": 1
                    },
                    "geo": {
                      "bgcolor": "white",
                      "landcolor": "#E5ECF6",
                      "subunitcolor": "white",
                      "showland": true,
                      "showlakes": true,
                      "lakecolor": "white"
                    },
                    "title": {
                      "x": 0.05
                    },
                    "mapbox": {
                      "style": "light"
                    }
                  }
                },
                "geo": {
                  "domain": {
                    "x": [
                      0,
                      1
                    ],
                    "y": [
                      0,
                      1
                    ]
                  },
                  "center": {
                    "lon": -95.91000731931507,
                    "lat": 38.75585940526816
                  },
                  "scope": "usa",
                  "projection": {
                    "scale": 1.0252672378885954
                  }
                },
                "coloraxis": {
                  "colorbar": {
                    "title": {
                      "text": "DecamillionairesPer10000People"
                    }
                  },
                  "colorscale": [
                    [
                      0,
                      "#440154"
                    ],
                    [
                      0.1111111111111111,
                      "#482878"
                    ],
                    [
                      0.2222222222222222,
                      "#3e4989"
                    ],
                    [
                      0.3333333333333333,
                      "#31688e"
                    ],
                    [
                      0.4444444444444444,
                      "#26828e"
                    ],
                    [
                      0.5555555555555556,
                      "#1f9e89"
                    ],
                    [
                      0.6666666666666666,
                      "#35b779"
                    ],
                    [
                      0.7777777777777778,
                      "#6ece58"
                    ],
                    [
                      0.8888888888888888,
                      "#b5de2b"
                    ],
                    [
                      1,
                      "#fde725"
                    ]
                  ]
                },
                "legend": {
                  "tracegroupgap": 0,
                  "title": {
                    "text": "Decamillionaires per 10,000 People"
                  }
                },
                "title": {
                  "text": "Decamillionaires per 10,000 People by State"
                },
                "height": 600,
                "width": 1000
              },
              "config": {
                "plotlyServerURL": "https://plot.ly"
              }
            },
            "text/html": "<div>                            <div id=\"3617db20-20f7-4010-9e0e-87749bf32fe7\" class=\"plotly-graph-div\" style=\"height:600px; width:1000px;\"></div>            <script type=\"text/javascript\">                require([\"plotly\"], function(Plotly) {                    window.PLOTLYENV=window.PLOTLYENV || {};                                    if (document.getElementById(\"3617db20-20f7-4010-9e0e-87749bf32fe7\")) {                    Plotly.newPlot(                        \"3617db20-20f7-4010-9e0e-87749bf32fe7\",                        [{\"coloraxis\":\"coloraxis\",\"customdata\":[[2.645147756,1329,\"44,551\",\"5,024,294\"],[5.081097785,3637,\"95,484\",\"7,157,902\"],[7.883140904,2374,\"48,645\",\"3,011,490\"],[9.662045416,38202,\"1,575,494\",\"39,538,212\"],[4.284942066,2474,\"117,496\",\"5,773,707\"],[7.873181597,2839,\"86,200\",\"3,605,912\"],[3.000163645,297,\"8,819\",\"989,946\"],[7.860221478,542,\"19,705\",\"689,548\"],[9.609430976,20697,\"687,113\",\"21,538,216\"],[1.884490531,2019,\"56,730\",\"10,713,771\"],[1.869063833,272,\"12,128\",\"1,455,274\"],[7.949467054,1462,\"62,667\",\"1,839,117\"],[5.622989372,7205,\"232,440\",\"12,813,469\"],[6.827852924,4633,\"91,407\",\"6,785,442\"],[2.983926603,952,\"23,084\",\"3,190,427\"],[4.76201012,1399,\"37,909\",\"2,937,835\"],[8.155254747,3675,\"65,638\",\"4,506,297\"],[5.717309837,2663,\"71,359\",\"4,657,785\"],[5.773278158,787,\"14,337\",\"1,363,177\"],[4.851671123,2997,\"57,496\",\"6,177,253\"],[6.325952487,4449,\"114,561\",\"7,032,933\"],[4.940624196,4979,\"95,722\",\"10,077,674\"],[5.135974531,2931,\"57,538\",\"5,706,804\"],[3.765230611,1115,\"19,612\",\"2,961,306\"],[3.37130369,2075,\"93,153\",\"6,154,889\"],[6.649794696,721,\"13,651\",\"1,084,244\"],[2.971510705,583,\"26,538\",\"1,961,965\"],[4.921702097,1528,\"28,840\",\"3,104,617\"],[5.524404656,761,\"14,761\",\"1,377,524\"],[5.369769682,4988,\"141,977\",\"9,289,039\"],[1.468695765,311,\"7,073\",\"2,117,525\"],[9.313781783,18816,\"912,105\",\"20,202,320\"],[3.22813663,3370,\"79,255\",\"10,439,459\"],[11.73180127,914,\"22,056\",\"779,079\"],[4.332449018,5112,\"129,642\",\"11,799,331\"],[2.581192001,1022,\"31,953\",\"3,959,411\"],[3.554167663,1506,\"49,061\",\"4,237,279\"],[7.589141652,9868,\"282,548\",\"13,002,788\"],[2.774292546,1420,\"33,368\",\"5,118,422\"],[1.725561315,153,\"3,802\",\"886,668\"],[3.038728156,2100,\"51,053\",\"6,910,786\"],[6.902275926,20117,\"600,809\",\"29,145,459\"],[1.931768234,632,\"14,650\",\"3,271,614\"],[7.261960854,467,\"41,301\",\"643,077\"],[3.539413718,3055,\"92,292\",\"8,631,373\"],[7.092551108,5465,\"216,860\",\"7,705,267\"],[0.7637788208,137,\"2,199\",\"1,793,713\"],[4.167152354,2456,\"86,240\",\"5,893,713\"],[10.67868597,616,\"152,097\",\"576,850\"]],\"geo\":\"geo\",\"hovertemplate\":\"<b>%{hovertext}</b><br><br>Code=%{location}<br>Decamillionaires=%{customdata[1]}<br>Total Wealth=%{customdata[2]}<br>Population=%{customdata[3]}<extra></extra>\",\"hovertext\":[\"Alabama\",\"Arizona\",\"Arkansas\",\"California\",\"Colorado\",\"Connecticut\",\"Delaware\",\"District of Columbia\",\"Florida\",\"Georgia\",\"Hawaii\",\"Idaho\",\"Illinois\",\"Indiana\",\"Iowa\",\"Kansas\",\"Kentucky\",\"Louisiana\",\"Maine\",\"Maryland\",\"Massachusetts\",\"Michigan\",\"Minnesota\",\"Mississippi\",\"Missouri\",\"Montana\",\"Nebraska\",\"Nevada\",\"New Hampshire\",\"New Jersey\",\"New Mexico\",\"New York\",\"North Carolina\",\"North Dakota\",\"Ohio\",\"Oklahoma\",\"Oregon\",\"Pennsylvania\",\"South Carolina\",\"South Dakota\",\"Tennessee\",\"Texas\",\"Utah\",\"Vermont\",\"Virginia\",\"Washington\",\"West Virginia\",\"Wisconsin\",\"Wyoming\"],\"locationmode\":\"USA-states\",\"locations\":[\"AL\",\"AZ\",\"AR\",\"CA\",\"CO\",\"CT\",\"DE\",\"DC\",\"FL\",\"GA\",\"HI\",\"ID\",\"IL\",\"IN\",\"IA\",\"KS\",\"KY\",\"LA\",\"ME\",\"MD\",\"MA\",\"MI\",\"MN\",\"MS\",\"MO\",\"MT\",\"NE\",\"NV\",\"NH\",\"NJ\",\"NM\",\"NY\",\"NC\",\"ND\",\"OH\",\"OK\",\"OR\",\"PA\",\"SC\",\"SD\",\"TN\",\"TX\",\"UT\",\"VT\",\"VA\",\"WA\",\"WV\",\"WI\",\"WY\"],\"name\":\"\",\"z\":[2.645147756,5.081097785,7.883140904,9.662045416,4.284942066,7.873181597,3.000163645,7.860221478,9.609430976,1.884490531,1.869063833,7.949467054,5.622989372,6.827852924,2.983926603,4.76201012,8.155254747,5.717309837,5.773278158,4.851671123,6.325952487,4.940624196,5.135974531,3.765230611,3.37130369,6.649794696,2.971510705,4.921702097,5.524404656,5.369769682,1.468695765,9.313781783,3.22813663,11.73180127,4.332449018,2.581192001,3.554167663,7.589141652,2.774292546,1.725561315,3.038728156,6.902275926,1.931768234,7.261960854,3.539413718,7.092551108,0.7637788208,4.167152354,10.67868597],\"type\":\"choropleth\"},{\"locationmode\":\"USA-states\",\"locations\":[\"AL\"],\"mode\":\"text\",\"showlegend\":false,\"text\":\"<b>3</b>\",\"textfont\":{\"color\":\"white\",\"size\":12},\"type\":\"scattergeo\"},{\"locationmode\":\"USA-states\",\"locations\":[\"AZ\"],\"mode\":\"text\",\"showlegend\":false,\"text\":\"<b>6</b>\",\"textfont\":{\"color\":\"white\",\"size\":12},\"type\":\"scattergeo\"},{\"locationmode\":\"USA-states\",\"locations\":[\"AR\"],\"mode\":\"text\",\"showlegend\":false,\"text\":\"<b>8</b>\",\"textfont\":{\"color\":\"black\",\"size\":12},\"type\":\"scattergeo\"},{\"locationmode\":\"USA-states\",\"locations\":[\"CA\"],\"mode\":\"text\",\"showlegend\":false,\"text\":\"<b>10</b>\",\"textfont\":{\"color\":\"black\",\"size\":12},\"type\":\"scattergeo\"},{\"locationmode\":\"USA-states\",\"locations\":[\"CO\"],\"mode\":\"text\",\"showlegend\":false,\"text\":\"<b>5</b>\",\"textfont\":{\"color\":\"white\",\"size\":12},\"type\":\"scattergeo\"},{\"locationmode\":\"USA-states\",\"locations\":[\"CT\"],\"mode\":\"text\",\"showlegend\":false,\"text\":\"<b>8</b>\",\"textfont\":{\"color\":\"black\",\"size\":12},\"type\":\"scattergeo\"},{\"locationmode\":\"USA-states\",\"locations\":[\"DE\"],\"mode\":\"text\",\"showlegend\":false,\"text\":\"<b>4</b>\",\"textfont\":{\"color\":\"white\",\"size\":12},\"type\":\"scattergeo\"},{\"locationmode\":\"USA-states\",\"locations\":[\"DC\"],\"mode\":\"text\",\"showlegend\":false,\"text\":\"<b>8</b>\",\"textfont\":{\"color\":\"black\",\"size\":12},\"type\":\"scattergeo\"},{\"locationmode\":\"USA-states\",\"locations\":[\"FL\"],\"mode\":\"text\",\"showlegend\":false,\"text\":\"<b>10</b>\",\"textfont\":{\"color\":\"black\",\"size\":12},\"type\":\"scattergeo\"},{\"locationmode\":\"USA-states\",\"locations\":[\"GA\"],\"mode\":\"text\",\"showlegend\":false,\"text\":\"<b>2</b>\",\"textfont\":{\"color\":\"white\",\"size\":12},\"type\":\"scattergeo\"},{\"locationmode\":\"USA-states\",\"locations\":[\"HI\"],\"mode\":\"text\",\"showlegend\":false,\"text\":\"<b>2</b>\",\"textfont\":{\"color\":\"white\",\"size\":12},\"type\":\"scattergeo\"},{\"locationmode\":\"USA-states\",\"locations\":[\"ID\"],\"mode\":\"text\",\"showlegend\":false,\"text\":\"<b>8</b>\",\"textfont\":{\"color\":\"black\",\"size\":12},\"type\":\"scattergeo\"},{\"locationmode\":\"USA-states\",\"locations\":[\"IL\"],\"mode\":\"text\",\"showlegend\":false,\"text\":\"<b>6</b>\",\"textfont\":{\"color\":\"white\",\"size\":12},\"type\":\"scattergeo\"},{\"locationmode\":\"USA-states\",\"locations\":[\"IN\"],\"mode\":\"text\",\"showlegend\":false,\"text\":\"<b>7</b>\",\"textfont\":{\"color\":\"black\",\"size\":12},\"type\":\"scattergeo\"},{\"locationmode\":\"USA-states\",\"locations\":[\"IA\"],\"mode\":\"text\",\"showlegend\":false,\"text\":\"<b>3</b>\",\"textfont\":{\"color\":\"white\",\"size\":12},\"type\":\"scattergeo\"},{\"locationmode\":\"USA-states\",\"locations\":[\"KS\"],\"mode\":\"text\",\"showlegend\":false,\"text\":\"<b>5</b>\",\"textfont\":{\"color\":\"white\",\"size\":12},\"type\":\"scattergeo\"},{\"locationmode\":\"USA-states\",\"locations\":[\"KY\"],\"mode\":\"text\",\"showlegend\":false,\"text\":\"<b>9</b>\",\"textfont\":{\"color\":\"black\",\"size\":12},\"type\":\"scattergeo\"},{\"locationmode\":\"USA-states\",\"locations\":[\"LA\"],\"mode\":\"text\",\"showlegend\":false,\"text\":\"<b>6</b>\",\"textfont\":{\"color\":\"white\",\"size\":12},\"type\":\"scattergeo\"},{\"locationmode\":\"USA-states\",\"locations\":[\"ME\"],\"mode\":\"text\",\"showlegend\":false,\"text\":\"<b>6</b>\",\"textfont\":{\"color\":\"white\",\"size\":12},\"type\":\"scattergeo\"},{\"locationmode\":\"USA-states\",\"locations\":[\"MD\"],\"mode\":\"text\",\"showlegend\":false,\"text\":\"<b>5</b>\",\"textfont\":{\"color\":\"white\",\"size\":12},\"type\":\"scattergeo\"},{\"locationmode\":\"USA-states\",\"locations\":[\"MA\"],\"mode\":\"text\",\"showlegend\":false,\"text\":\"<b>7</b>\",\"textfont\":{\"color\":\"black\",\"size\":12},\"type\":\"scattergeo\"},{\"locationmode\":\"USA-states\",\"locations\":[\"MI\"],\"mode\":\"text\",\"showlegend\":false,\"text\":\"<b>5</b>\",\"textfont\":{\"color\":\"white\",\"size\":12},\"type\":\"scattergeo\"},{\"locationmode\":\"USA-states\",\"locations\":[\"MN\"],\"mode\":\"text\",\"showlegend\":false,\"text\":\"<b>6</b>\",\"textfont\":{\"color\":\"white\",\"size\":12},\"type\":\"scattergeo\"},{\"locationmode\":\"USA-states\",\"locations\":[\"MS\"],\"mode\":\"text\",\"showlegend\":false,\"text\":\"<b>4</b>\",\"textfont\":{\"color\":\"white\",\"size\":12},\"type\":\"scattergeo\"},{\"locationmode\":\"USA-states\",\"locations\":[\"MO\"],\"mode\":\"text\",\"showlegend\":false,\"text\":\"<b>4</b>\",\"textfont\":{\"color\":\"white\",\"size\":12},\"type\":\"scattergeo\"},{\"locationmode\":\"USA-states\",\"locations\":[\"MT\"],\"mode\":\"text\",\"showlegend\":false,\"text\":\"<b>7</b>\",\"textfont\":{\"color\":\"black\",\"size\":12},\"type\":\"scattergeo\"},{\"locationmode\":\"USA-states\",\"locations\":[\"NE\"],\"mode\":\"text\",\"showlegend\":false,\"text\":\"<b>3</b>\",\"textfont\":{\"color\":\"white\",\"size\":12},\"type\":\"scattergeo\"},{\"locationmode\":\"USA-states\",\"locations\":[\"NV\"],\"mode\":\"text\",\"showlegend\":false,\"text\":\"<b>5</b>\",\"textfont\":{\"color\":\"white\",\"size\":12},\"type\":\"scattergeo\"},{\"locationmode\":\"USA-states\",\"locations\":[\"NH\"],\"mode\":\"text\",\"showlegend\":false,\"text\":\"<b>6</b>\",\"textfont\":{\"color\":\"white\",\"size\":12},\"type\":\"scattergeo\"},{\"locationmode\":\"USA-states\",\"locations\":[\"NJ\"],\"mode\":\"text\",\"showlegend\":false,\"text\":\"<b>6</b>\",\"textfont\":{\"color\":\"white\",\"size\":12},\"type\":\"scattergeo\"},{\"locationmode\":\"USA-states\",\"locations\":[\"NM\"],\"mode\":\"text\",\"showlegend\":false,\"text\":\"<b>2</b>\",\"textfont\":{\"color\":\"white\",\"size\":12},\"type\":\"scattergeo\"},{\"locationmode\":\"USA-states\",\"locations\":[\"NY\"],\"mode\":\"text\",\"showlegend\":false,\"text\":\"<b>10</b>\",\"textfont\":{\"color\":\"black\",\"size\":12},\"type\":\"scattergeo\"},{\"locationmode\":\"USA-states\",\"locations\":[\"NC\"],\"mode\":\"text\",\"showlegend\":false,\"text\":\"<b>4</b>\",\"textfont\":{\"color\":\"white\",\"size\":12},\"type\":\"scattergeo\"},{\"locationmode\":\"USA-states\",\"locations\":[\"ND\"],\"mode\":\"text\",\"showlegend\":false,\"text\":\"<b>12</b>\",\"textfont\":{\"color\":\"black\",\"size\":12},\"type\":\"scattergeo\"},{\"locationmode\":\"USA-states\",\"locations\":[\"OH\"],\"mode\":\"text\",\"showlegend\":false,\"text\":\"<b>5</b>\",\"textfont\":{\"color\":\"white\",\"size\":12},\"type\":\"scattergeo\"},{\"locationmode\":\"USA-states\",\"locations\":[\"OK\"],\"mode\":\"text\",\"showlegend\":false,\"text\":\"<b>3</b>\",\"textfont\":{\"color\":\"white\",\"size\":12},\"type\":\"scattergeo\"},{\"locationmode\":\"USA-states\",\"locations\":[\"OR\"],\"mode\":\"text\",\"showlegend\":false,\"text\":\"<b>4</b>\",\"textfont\":{\"color\":\"white\",\"size\":12},\"type\":\"scattergeo\"},{\"locationmode\":\"USA-states\",\"locations\":[\"PA\"],\"mode\":\"text\",\"showlegend\":false,\"text\":\"<b>8</b>\",\"textfont\":{\"color\":\"black\",\"size\":12},\"type\":\"scattergeo\"},{\"locationmode\":\"USA-states\",\"locations\":[\"SC\"],\"mode\":\"text\",\"showlegend\":false,\"text\":\"<b>3</b>\",\"textfont\":{\"color\":\"white\",\"size\":12},\"type\":\"scattergeo\"},{\"locationmode\":\"USA-states\",\"locations\":[\"SD\"],\"mode\":\"text\",\"showlegend\":false,\"text\":\"<b>2</b>\",\"textfont\":{\"color\":\"white\",\"size\":12},\"type\":\"scattergeo\"},{\"locationmode\":\"USA-states\",\"locations\":[\"TN\"],\"mode\":\"text\",\"showlegend\":false,\"text\":\"<b>4</b>\",\"textfont\":{\"color\":\"white\",\"size\":12},\"type\":\"scattergeo\"},{\"locationmode\":\"USA-states\",\"locations\":[\"TX\"],\"mode\":\"text\",\"showlegend\":false,\"text\":\"<b>7</b>\",\"textfont\":{\"color\":\"black\",\"size\":12},\"type\":\"scattergeo\"},{\"locationmode\":\"USA-states\",\"locations\":[\"UT\"],\"mode\":\"text\",\"showlegend\":false,\"text\":\"<b>2</b>\",\"textfont\":{\"color\":\"white\",\"size\":12},\"type\":\"scattergeo\"},{\"locationmode\":\"USA-states\",\"locations\":[\"VT\"],\"mode\":\"text\",\"showlegend\":false,\"text\":\"<b>8</b>\",\"textfont\":{\"color\":\"black\",\"size\":12},\"type\":\"scattergeo\"},{\"locationmode\":\"USA-states\",\"locations\":[\"VA\"],\"mode\":\"text\",\"showlegend\":false,\"text\":\"<b>4</b>\",\"textfont\":{\"color\":\"white\",\"size\":12},\"type\":\"scattergeo\"},{\"locationmode\":\"USA-states\",\"locations\":[\"WA\"],\"mode\":\"text\",\"showlegend\":false,\"text\":\"<b>8</b>\",\"textfont\":{\"color\":\"black\",\"size\":12},\"type\":\"scattergeo\"},{\"locationmode\":\"USA-states\",\"locations\":[\"WV\"],\"mode\":\"text\",\"showlegend\":false,\"text\":\"<b>1</b>\",\"textfont\":{\"color\":\"white\",\"size\":12},\"type\":\"scattergeo\"},{\"locationmode\":\"USA-states\",\"locations\":[\"WI\"],\"mode\":\"text\",\"showlegend\":false,\"text\":\"<b>5</b>\",\"textfont\":{\"color\":\"white\",\"size\":12},\"type\":\"scattergeo\"},{\"locationmode\":\"USA-states\",\"locations\":[\"WY\"],\"mode\":\"text\",\"showlegend\":false,\"text\":\"<b>11</b>\",\"textfont\":{\"color\":\"black\",\"size\":12},\"type\":\"scattergeo\"}],                        {\"template\":{\"data\":{\"histogram2dcontour\":[{\"type\":\"histogram2dcontour\",\"colorbar\":{\"outlinewidth\":0,\"ticks\":\"\"},\"colorscale\":[[0.0,\"#0d0887\"],[0.1111111111111111,\"#46039f\"],[0.2222222222222222,\"#7201a8\"],[0.3333333333333333,\"#9c179e\"],[0.4444444444444444,\"#bd3786\"],[0.5555555555555556,\"#d8576b\"],[0.6666666666666666,\"#ed7953\"],[0.7777777777777778,\"#fb9f3a\"],[0.8888888888888888,\"#fdca26\"],[1.0,\"#f0f921\"]]}],\"choropleth\":[{\"type\":\"choropleth\",\"colorbar\":{\"outlinewidth\":0,\"ticks\":\"\"}}],\"histogram2d\":[{\"type\":\"histogram2d\",\"colorbar\":{\"outlinewidth\":0,\"ticks\":\"\"},\"colorscale\":[[0.0,\"#0d0887\"],[0.1111111111111111,\"#46039f\"],[0.2222222222222222,\"#7201a8\"],[0.3333333333333333,\"#9c179e\"],[0.4444444444444444,\"#bd3786\"],[0.5555555555555556,\"#d8576b\"],[0.6666666666666666,\"#ed7953\"],[0.7777777777777778,\"#fb9f3a\"],[0.8888888888888888,\"#fdca26\"],[1.0,\"#f0f921\"]]}],\"heatmap\":[{\"type\":\"heatmap\",\"colorbar\":{\"outlinewidth\":0,\"ticks\":\"\"},\"colorscale\":[[0.0,\"#0d0887\"],[0.1111111111111111,\"#46039f\"],[0.2222222222222222,\"#7201a8\"],[0.3333333333333333,\"#9c179e\"],[0.4444444444444444,\"#bd3786\"],[0.5555555555555556,\"#d8576b\"],[0.6666666666666666,\"#ed7953\"],[0.7777777777777778,\"#fb9f3a\"],[0.8888888888888888,\"#fdca26\"],[1.0,\"#f0f921\"]]}],\"heatmapgl\":[{\"type\":\"heatmapgl\",\"colorbar\":{\"outlinewidth\":0,\"ticks\":\"\"},\"colorscale\":[[0.0,\"#0d0887\"],[0.1111111111111111,\"#46039f\"],[0.2222222222222222,\"#7201a8\"],[0.3333333333333333,\"#9c179e\"],[0.4444444444444444,\"#bd3786\"],[0.5555555555555556,\"#d8576b\"],[0.6666666666666666,\"#ed7953\"],[0.7777777777777778,\"#fb9f3a\"],[0.8888888888888888,\"#fdca26\"],[1.0,\"#f0f921\"]]}],\"contourcarpet\":[{\"type\":\"contourcarpet\",\"colorbar\":{\"outlinewidth\":0,\"ticks\":\"\"}}],\"contour\":[{\"type\":\"contour\",\"colorbar\":{\"outlinewidth\":0,\"ticks\":\"\"},\"colorscale\":[[0.0,\"#0d0887\"],[0.1111111111111111,\"#46039f\"],[0.2222222222222222,\"#7201a8\"],[0.3333333333333333,\"#9c179e\"],[0.4444444444444444,\"#bd3786\"],[0.5555555555555556,\"#d8576b\"],[0.6666666666666666,\"#ed7953\"],[0.7777777777777778,\"#fb9f3a\"],[0.8888888888888888,\"#fdca26\"],[1.0,\"#f0f921\"]]}],\"surface\":[{\"type\":\"surface\",\"colorbar\":{\"outlinewidth\":0,\"ticks\":\"\"},\"colorscale\":[[0.0,\"#0d0887\"],[0.1111111111111111,\"#46039f\"],[0.2222222222222222,\"#7201a8\"],[0.3333333333333333,\"#9c179e\"],[0.4444444444444444,\"#bd3786\"],[0.5555555555555556,\"#d8576b\"],[0.6666666666666666,\"#ed7953\"],[0.7777777777777778,\"#fb9f3a\"],[0.8888888888888888,\"#fdca26\"],[1.0,\"#f0f921\"]]}],\"mesh3d\":[{\"type\":\"mesh3d\",\"colorbar\":{\"outlinewidth\":0,\"ticks\":\"\"}}],\"scatter\":[{\"fillpattern\":{\"fillmode\":\"overlay\",\"size\":10,\"solidity\":0.2},\"type\":\"scatter\"}],\"parcoords\":[{\"type\":\"parcoords\",\"line\":{\"colorbar\":{\"outlinewidth\":0,\"ticks\":\"\"}}}],\"scatterpolargl\":[{\"type\":\"scatterpolargl\",\"marker\":{\"colorbar\":{\"outlinewidth\":0,\"ticks\":\"\"}}}],\"bar\":[{\"error_x\":{\"color\":\"#2a3f5f\"},\"error_y\":{\"color\":\"#2a3f5f\"},\"marker\":{\"line\":{\"color\":\"#E5ECF6\",\"width\":0.5},\"pattern\":{\"fillmode\":\"overlay\",\"size\":10,\"solidity\":0.2}},\"type\":\"bar\"}],\"scattergeo\":[{\"type\":\"scattergeo\",\"marker\":{\"colorbar\":{\"outlinewidth\":0,\"ticks\":\"\"}}}],\"scatterpolar\":[{\"type\":\"scatterpolar\",\"marker\":{\"colorbar\":{\"outlinewidth\":0,\"ticks\":\"\"}}}],\"histogram\":[{\"marker\":{\"pattern\":{\"fillmode\":\"overlay\",\"size\":10,\"solidity\":0.2}},\"type\":\"histogram\"}],\"scattergl\":[{\"type\":\"scattergl\",\"marker\":{\"colorbar\":{\"outlinewidth\":0,\"ticks\":\"\"}}}],\"scatter3d\":[{\"type\":\"scatter3d\",\"line\":{\"colorbar\":{\"outlinewidth\":0,\"ticks\":\"\"}},\"marker\":{\"colorbar\":{\"outlinewidth\":0,\"ticks\":\"\"}}}],\"scattermapbox\":[{\"type\":\"scattermapbox\",\"marker\":{\"colorbar\":{\"outlinewidth\":0,\"ticks\":\"\"}}}],\"scatterternary\":[{\"type\":\"scatterternary\",\"marker\":{\"colorbar\":{\"outlinewidth\":0,\"ticks\":\"\"}}}],\"scattercarpet\":[{\"type\":\"scattercarpet\",\"marker\":{\"colorbar\":{\"outlinewidth\":0,\"ticks\":\"\"}}}],\"carpet\":[{\"aaxis\":{\"endlinecolor\":\"#2a3f5f\",\"gridcolor\":\"white\",\"linecolor\":\"white\",\"minorgridcolor\":\"white\",\"startlinecolor\":\"#2a3f5f\"},\"baxis\":{\"endlinecolor\":\"#2a3f5f\",\"gridcolor\":\"white\",\"linecolor\":\"white\",\"minorgridcolor\":\"white\",\"startlinecolor\":\"#2a3f5f\"},\"type\":\"carpet\"}],\"table\":[{\"cells\":{\"fill\":{\"color\":\"#EBF0F8\"},\"line\":{\"color\":\"white\"}},\"header\":{\"fill\":{\"color\":\"#C8D4E3\"},\"line\":{\"color\":\"white\"}},\"type\":\"table\"}],\"barpolar\":[{\"marker\":{\"line\":{\"color\":\"#E5ECF6\",\"width\":0.5},\"pattern\":{\"fillmode\":\"overlay\",\"size\":10,\"solidity\":0.2}},\"type\":\"barpolar\"}],\"pie\":[{\"automargin\":true,\"type\":\"pie\"}]},\"layout\":{\"autotypenumbers\":\"strict\",\"colorway\":[\"#636efa\",\"#EF553B\",\"#00cc96\",\"#ab63fa\",\"#FFA15A\",\"#19d3f3\",\"#FF6692\",\"#B6E880\",\"#FF97FF\",\"#FECB52\"],\"font\":{\"color\":\"#2a3f5f\"},\"hovermode\":\"closest\",\"hoverlabel\":{\"align\":\"left\"},\"paper_bgcolor\":\"white\",\"plot_bgcolor\":\"#E5ECF6\",\"polar\":{\"bgcolor\":\"#E5ECF6\",\"angularaxis\":{\"gridcolor\":\"white\",\"linecolor\":\"white\",\"ticks\":\"\"},\"radialaxis\":{\"gridcolor\":\"white\",\"linecolor\":\"white\",\"ticks\":\"\"}},\"ternary\":{\"bgcolor\":\"#E5ECF6\",\"aaxis\":{\"gridcolor\":\"white\",\"linecolor\":\"white\",\"ticks\":\"\"},\"baxis\":{\"gridcolor\":\"white\",\"linecolor\":\"white\",\"ticks\":\"\"},\"caxis\":{\"gridcolor\":\"white\",\"linecolor\":\"white\",\"ticks\":\"\"}},\"coloraxis\":{\"colorbar\":{\"outlinewidth\":0,\"ticks\":\"\"}},\"colorscale\":{\"sequential\":[[0.0,\"#0d0887\"],[0.1111111111111111,\"#46039f\"],[0.2222222222222222,\"#7201a8\"],[0.3333333333333333,\"#9c179e\"],[0.4444444444444444,\"#bd3786\"],[0.5555555555555556,\"#d8576b\"],[0.6666666666666666,\"#ed7953\"],[0.7777777777777778,\"#fb9f3a\"],[0.8888888888888888,\"#fdca26\"],[1.0,\"#f0f921\"]],\"sequentialminus\":[[0.0,\"#0d0887\"],[0.1111111111111111,\"#46039f\"],[0.2222222222222222,\"#7201a8\"],[0.3333333333333333,\"#9c179e\"],[0.4444444444444444,\"#bd3786\"],[0.5555555555555556,\"#d8576b\"],[0.6666666666666666,\"#ed7953\"],[0.7777777777777778,\"#fb9f3a\"],[0.8888888888888888,\"#fdca26\"],[1.0,\"#f0f921\"]],\"diverging\":[[0,\"#8e0152\"],[0.1,\"#c51b7d\"],[0.2,\"#de77ae\"],[0.3,\"#f1b6da\"],[0.4,\"#fde0ef\"],[0.5,\"#f7f7f7\"],[0.6,\"#e6f5d0\"],[0.7,\"#b8e186\"],[0.8,\"#7fbc41\"],[0.9,\"#4d9221\"],[1,\"#276419\"]]},\"xaxis\":{\"gridcolor\":\"white\",\"linecolor\":\"white\",\"ticks\":\"\",\"title\":{\"standoff\":15},\"zerolinecolor\":\"white\",\"automargin\":true,\"zerolinewidth\":2},\"yaxis\":{\"gridcolor\":\"white\",\"linecolor\":\"white\",\"ticks\":\"\",\"title\":{\"standoff\":15},\"zerolinecolor\":\"white\",\"automargin\":true,\"zerolinewidth\":2},\"scene\":{\"xaxis\":{\"backgroundcolor\":\"#E5ECF6\",\"gridcolor\":\"white\",\"linecolor\":\"white\",\"showbackground\":true,\"ticks\":\"\",\"zerolinecolor\":\"white\",\"gridwidth\":2},\"yaxis\":{\"backgroundcolor\":\"#E5ECF6\",\"gridcolor\":\"white\",\"linecolor\":\"white\",\"showbackground\":true,\"ticks\":\"\",\"zerolinecolor\":\"white\",\"gridwidth\":2},\"zaxis\":{\"backgroundcolor\":\"#E5ECF6\",\"gridcolor\":\"white\",\"linecolor\":\"white\",\"showbackground\":true,\"ticks\":\"\",\"zerolinecolor\":\"white\",\"gridwidth\":2}},\"shapedefaults\":{\"line\":{\"color\":\"#2a3f5f\"}},\"annotationdefaults\":{\"arrowcolor\":\"#2a3f5f\",\"arrowhead\":0,\"arrowwidth\":1},\"geo\":{\"bgcolor\":\"white\",\"landcolor\":\"#E5ECF6\",\"subunitcolor\":\"white\",\"showland\":true,\"showlakes\":true,\"lakecolor\":\"white\"},\"title\":{\"x\":0.05},\"mapbox\":{\"style\":\"light\"}}},\"geo\":{\"domain\":{\"x\":[0.0,1.0],\"y\":[0.0,1.0]},\"center\":{},\"scope\":\"usa\",\"projection\":{\"scale\":1.0}},\"coloraxis\":{\"colorbar\":{\"title\":{\"text\":\"DecamillionairesPer10000People\"}},\"colorscale\":[[0.0,\"#440154\"],[0.1111111111111111,\"#482878\"],[0.2222222222222222,\"#3e4989\"],[0.3333333333333333,\"#31688e\"],[0.4444444444444444,\"#26828e\"],[0.5555555555555556,\"#1f9e89\"],[0.6666666666666666,\"#35b779\"],[0.7777777777777778,\"#6ece58\"],[0.8888888888888888,\"#b5de2b\"],[1.0,\"#fde725\"]]},\"legend\":{\"tracegroupgap\":0,\"title\":{\"text\":\"Decamillionaires per 10,000 People\"}},\"title\":{\"text\":\"Decamillionaires per 10,000 People by State\"},\"height\":600,\"width\":1000},                        {\"responsive\": true}                    ).then(function(){\n                            \nvar gd = document.getElementById('3617db20-20f7-4010-9e0e-87749bf32fe7');\nvar x = new MutationObserver(function (mutations, observer) {{\n        var display = window.getComputedStyle(gd).display;\n        if (!display || display === 'none') {{\n            console.log([gd, 'removed!']);\n            Plotly.purge(gd);\n            observer.disconnect();\n        }}\n}});\n\n// Listen for the removal of the full notebook cells\nvar notebookContainer = gd.closest('#notebook-container');\nif (notebookContainer) {{\n    x.observe(notebookContainer, {childList: true});\n}}\n\n// Listen for the clearing of the current output cell\nvar outputEl = gd.closest('.output');\nif (outputEl) {{\n    x.observe(outputEl, {childList: true});\n}}\n\n                        })                };                });            </script>        </div>",
            "image/png": "[encoded data removed]"
          },
          "metadata": {}
        }
      ],
      "execution_count": 37
    },
    {
      "cell_type": "code",
      "source": "df",
      "metadata": {
        "trusted": true
      },
      "outputs": [
        {
          "execution_count": 23,
          "output_type": "execute_result",
          "data": {
            "text/plain": "                   State Code Decamillionaires Total Wealth  Population  \\\n0                Alabama   AL            1,329       44,551   5,024,294   \n1                Arizona   AZ            3,637       95,484   7,157,902   \n2               Arkansas   AR            2,374       48,645   3,011,490   \n3             California   CA           38,202    1,575,494  39,538,212   \n4               Colorado   CO            2,474      117,496   5,773,707   \n5            Connecticut   CT            2,839       86,200   3,605,912   \n6               Delaware   DE              297        8,819     989,946   \n7   District of Columbia   DC              542       19,705     689,548   \n8                Florida   FL           20,697      687,113  21,538,216   \n9                Georgia   GA            2,019       56,730  10,713,771   \n10                Hawaii   HI              272       12,128   1,455,274   \n11                 Idaho   ID            1,462       62,667   1,839,117   \n12              Illinois   IL            7,205      232,440  12,813,469   \n13               Indiana   IN            4,633       91,407   6,785,442   \n14                  Iowa   IA              952       23,084   3,190,427   \n15                Kansas   KS            1,399       37,909   2,937,835   \n16              Kentucky   KY            3,675       65,638   4,506,297   \n17             Louisiana   LA            2,663       71,359   4,657,785   \n18                 Maine   ME              787       14,337   1,363,177   \n19              Maryland   MD            2,997       57,496   6,177,253   \n20         Massachusetts   MA            4,449      114,561   7,032,933   \n21              Michigan   MI            4,979       95,722  10,077,674   \n22             Minnesota   MN            2,931       57,538   5,706,804   \n23           Mississippi   MS            1,115       19,612   2,961,306   \n24              Missouri   MO            2,075       93,153   6,154,889   \n25               Montana   MT              721       13,651   1,084,244   \n26              Nebraska   NE              583       26,538   1,961,965   \n27                Nevada   NV            1,528       28,840   3,104,617   \n28         New Hampshire   NH              761       14,761   1,377,524   \n29            New Jersey   NJ            4,988      141,977   9,289,039   \n30            New Mexico   NM              311        7,073   2,117,525   \n31              New York   NY           18,816      912,105  20,202,320   \n32        North Carolina   NC            3,370       79,255  10,439,459   \n33          North Dakota   ND              914       22,056     779,079   \n34                  Ohio   OH            5,112      129,642  11,799,331   \n35              Oklahoma   OK            1,022       31,953   3,959,411   \n36                Oregon   OR            1,506       49,061   4,237,279   \n37          Pennsylvania   PA            9,868      282,548  13,002,788   \n38        South Carolina   SC            1,420       33,368   5,118,422   \n39          South Dakota   SD              153        3,802     886,668   \n40             Tennessee   TN            2,100       51,053   6,910,786   \n41                 Texas   TX           20,117      600,809  29,145,459   \n42                  Utah   UT              632       14,650   3,271,614   \n43               Vermont   VT              467       41,301     643,077   \n44              Virginia   VA            3,055       92,292   8,631,373   \n45            Washington   WA            5,465      216,860   7,705,267   \n46         West Virginia   WV              137        2,199   1,793,713   \n47             Wisconsin   WI            2,456       86,240   5,893,713   \n48               Wyoming   WY              616      152,097     576,850   \n\n    DecamillionairesPer10000People  \n0                         2.645148  \n1                         5.081098  \n2                         7.883141  \n3                         9.662045  \n4                         4.284942  \n5                         7.873182  \n6                         3.000164  \n7                         7.860221  \n8                         9.609431  \n9                         1.884491  \n10                        1.869064  \n11                        7.949467  \n12                        5.622989  \n13                        6.827853  \n14                        2.983927  \n15                        4.762010  \n16                        8.155255  \n17                        5.717310  \n18                        5.773278  \n19                        4.851671  \n20                        6.325952  \n21                        4.940624  \n22                        5.135975  \n23                        3.765231  \n24                        3.371304  \n25                        6.649795  \n26                        2.971511  \n27                        4.921702  \n28                        5.524405  \n29                        5.369770  \n30                        1.468696  \n31                        9.313782  \n32                        3.228137  \n33                       11.731801  \n34                        4.332449  \n35                        2.581192  \n36                        3.554168  \n37                        7.589142  \n38                        2.774293  \n39                        1.725561  \n40                        3.038728  \n41                        6.902276  \n42                        1.931768  \n43                        7.261961  \n44                        3.539414  \n45                        7.092551  \n46                        0.763779  \n47                        4.167152  \n48                       10.678686  ",
            "text/html": "<div>\n<style scoped>\n    .dataframe tbody tr th:only-of-type {\n        vertical-align: middle;\n    }\n\n    .dataframe tbody tr th {\n        vertical-align: top;\n    }\n\n    .dataframe thead th {\n        text-align: right;\n    }\n</style>\n<table border=\"1\" class=\"dataframe\">\n  <thead>\n    <tr style=\"text-align: right;\">\n      <th></th>\n      <th>State</th>\n      <th>Code</th>\n      <th>Decamillionaires</th>\n      <th>Total Wealth</th>\n      <th>Population</th>\n      <th>DecamillionairesPer10000People</th>\n    </tr>\n  </thead>\n  <tbody>\n    <tr>\n      <th>0</th>\n      <td>Alabama</td>\n      <td>AL</td>\n      <td>1,329</td>\n      <td>44,551</td>\n      <td>5,024,294</td>\n      <td>2.645148</td>\n    </tr>\n    <tr>\n      <th>1</th>\n      <td>Arizona</td>\n      <td>AZ</td>\n      <td>3,637</td>\n      <td>95,484</td>\n      <td>7,157,902</td>\n      <td>5.081098</td>\n    </tr>\n    <tr>\n      <th>2</th>\n      <td>Arkansas</td>\n      <td>AR</td>\n      <td>2,374</td>\n      <td>48,645</td>\n      <td>3,011,490</td>\n      <td>7.883141</td>\n    </tr>\n    <tr>\n      <th>3</th>\n      <td>California</td>\n      <td>CA</td>\n      <td>38,202</td>\n      <td>1,575,494</td>\n      <td>39,538,212</td>\n      <td>9.662045</td>\n    </tr>\n    <tr>\n      <th>4</th>\n      <td>Colorado</td>\n      <td>CO</td>\n      <td>2,474</td>\n      <td>117,496</td>\n      <td>5,773,707</td>\n      <td>4.284942</td>\n    </tr>\n    <tr>\n      <th>5</th>\n      <td>Connecticut</td>\n      <td>CT</td>\n      <td>2,839</td>\n      <td>86,200</td>\n      <td>3,605,912</td>\n      <td>7.873182</td>\n    </tr>\n    <tr>\n      <th>6</th>\n      <td>Delaware</td>\n      <td>DE</td>\n      <td>297</td>\n      <td>8,819</td>\n      <td>989,946</td>\n      <td>3.000164</td>\n    </tr>\n    <tr>\n      <th>7</th>\n      <td>District of Columbia</td>\n      <td>DC</td>\n      <td>542</td>\n      <td>19,705</td>\n      <td>689,548</td>\n      <td>7.860221</td>\n    </tr>\n    <tr>\n      <th>8</th>\n      <td>Florida</td>\n      <td>FL</td>\n      <td>20,697</td>\n      <td>687,113</td>\n      <td>21,538,216</td>\n      <td>9.609431</td>\n    </tr>\n    <tr>\n      <th>9</th>\n      <td>Georgia</td>\n      <td>GA</td>\n      <td>2,019</td>\n      <td>56,730</td>\n      <td>10,713,771</td>\n      <td>1.884491</td>\n    </tr>\n    <tr>\n      <th>10</th>\n      <td>Hawaii</td>\n      <td>HI</td>\n      <td>272</td>\n      <td>12,128</td>\n      <td>1,455,274</td>\n      <td>1.869064</td>\n    </tr>\n    <tr>\n      <th>11</th>\n      <td>Idaho</td>\n      <td>ID</td>\n      <td>1,462</td>\n      <td>62,667</td>\n      <td>1,839,117</td>\n      <td>7.949467</td>\n    </tr>\n    <tr>\n      <th>12</th>\n      <td>Illinois</td>\n      <td>IL</td>\n      <td>7,205</td>\n      <td>232,440</td>\n      <td>12,813,469</td>\n      <td>5.622989</td>\n    </tr>\n    <tr>\n      <th>13</th>\n      <td>Indiana</td>\n      <td>IN</td>\n      <td>4,633</td>\n      <td>91,407</td>\n      <td>6,785,442</td>\n      <td>6.827853</td>\n    </tr>\n    <tr>\n      <th>14</th>\n      <td>Iowa</td>\n      <td>IA</td>\n      <td>952</td>\n      <td>23,084</td>\n      <td>3,190,427</td>\n      <td>2.983927</td>\n    </tr>\n    <tr>\n      <th>15</th>\n      <td>Kansas</td>\n      <td>KS</td>\n      <td>1,399</td>\n      <td>37,909</td>\n      <td>2,937,835</td>\n      <td>4.762010</td>\n    </tr>\n    <tr>\n      <th>16</th>\n      <td>Kentucky</td>\n      <td>KY</td>\n      <td>3,675</td>\n      <td>65,638</td>\n      <td>4,506,297</td>\n      <td>8.155255</td>\n    </tr>\n    <tr>\n      <th>17</th>\n      <td>Louisiana</td>\n      <td>LA</td>\n      <td>2,663</td>\n      <td>71,359</td>\n      <td>4,657,785</td>\n      <td>5.717310</td>\n    </tr>\n    <tr>\n      <th>18</th>\n      <td>Maine</td>\n      <td>ME</td>\n      <td>787</td>\n      <td>14,337</td>\n      <td>1,363,177</td>\n      <td>5.773278</td>\n    </tr>\n    <tr>\n      <th>19</th>\n      <td>Maryland</td>\n      <td>MD</td>\n      <td>2,997</td>\n      <td>57,496</td>\n      <td>6,177,253</td>\n      <td>4.851671</td>\n    </tr>\n    <tr>\n      <th>20</th>\n      <td>Massachusetts</td>\n      <td>MA</td>\n      <td>4,449</td>\n      <td>114,561</td>\n      <td>7,032,933</td>\n      <td>6.325952</td>\n    </tr>\n    <tr>\n      <th>21</th>\n      <td>Michigan</td>\n      <td>MI</td>\n      <td>4,979</td>\n      <td>95,722</td>\n      <td>10,077,674</td>\n      <td>4.940624</td>\n    </tr>\n    <tr>\n      <th>22</th>\n      <td>Minnesota</td>\n      <td>MN</td>\n      <td>2,931</td>\n      <td>57,538</td>\n      <td>5,706,804</td>\n      <td>5.135975</td>\n    </tr>\n    <tr>\n      <th>23</th>\n      <td>Mississippi</td>\n      <td>MS</td>\n      <td>1,115</td>\n      <td>19,612</td>\n      <td>2,961,306</td>\n      <td>3.765231</td>\n    </tr>\n    <tr>\n      <th>24</th>\n      <td>Missouri</td>\n      <td>MO</td>\n      <td>2,075</td>\n      <td>93,153</td>\n      <td>6,154,889</td>\n      <td>3.371304</td>\n    </tr>\n    <tr>\n      <th>25</th>\n      <td>Montana</td>\n      <td>MT</td>\n      <td>721</td>\n      <td>13,651</td>\n      <td>1,084,244</td>\n      <td>6.649795</td>\n    </tr>\n    <tr>\n      <th>26</th>\n      <td>Nebraska</td>\n      <td>NE</td>\n      <td>583</td>\n      <td>26,538</td>\n      <td>1,961,965</td>\n      <td>2.971511</td>\n    </tr>\n    <tr>\n      <th>27</th>\n      <td>Nevada</td>\n      <td>NV</td>\n      <td>1,528</td>\n      <td>28,840</td>\n      <td>3,104,617</td>\n      <td>4.921702</td>\n    </tr>\n    <tr>\n      <th>28</th>\n      <td>New Hampshire</td>\n      <td>NH</td>\n      <td>761</td>\n      <td>14,761</td>\n      <td>1,377,524</td>\n      <td>5.524405</td>\n    </tr>\n    <tr>\n      <th>29</th>\n      <td>New Jersey</td>\n      <td>NJ</td>\n      <td>4,988</td>\n      <td>141,977</td>\n      <td>9,289,039</td>\n      <td>5.369770</td>\n    </tr>\n    <tr>\n      <th>30</th>\n      <td>New Mexico</td>\n      <td>NM</td>\n      <td>311</td>\n      <td>7,073</td>\n      <td>2,117,525</td>\n      <td>1.468696</td>\n    </tr>\n    <tr>\n      <th>31</th>\n      <td>New York</td>\n      <td>NY</td>\n      <td>18,816</td>\n      <td>912,105</td>\n      <td>20,202,320</td>\n      <td>9.313782</td>\n    </tr>\n    <tr>\n      <th>32</th>\n      <td>North Carolina</td>\n      <td>NC</td>\n      <td>3,370</td>\n      <td>79,255</td>\n      <td>10,439,459</td>\n      <td>3.228137</td>\n    </tr>\n    <tr>\n      <th>33</th>\n      <td>North Dakota</td>\n      <td>ND</td>\n      <td>914</td>\n      <td>22,056</td>\n      <td>779,079</td>\n      <td>11.731801</td>\n    </tr>\n    <tr>\n      <th>34</th>\n      <td>Ohio</td>\n      <td>OH</td>\n      <td>5,112</td>\n      <td>129,642</td>\n      <td>11,799,331</td>\n      <td>4.332449</td>\n    </tr>\n    <tr>\n      <th>35</th>\n      <td>Oklahoma</td>\n      <td>OK</td>\n      <td>1,022</td>\n      <td>31,953</td>\n      <td>3,959,411</td>\n      <td>2.581192</td>\n    </tr>\n    <tr>\n      <th>36</th>\n      <td>Oregon</td>\n      <td>OR</td>\n      <td>1,506</td>\n      <td>49,061</td>\n      <td>4,237,279</td>\n      <td>3.554168</td>\n    </tr>\n    <tr>\n      <th>37</th>\n      <td>Pennsylvania</td>\n      <td>PA</td>\n      <td>9,868</td>\n      <td>282,548</td>\n      <td>13,002,788</td>\n      <td>7.589142</td>\n    </tr>\n    <tr>\n      <th>38</th>\n      <td>South Carolina</td>\n      <td>SC</td>\n      <td>1,420</td>\n      <td>33,368</td>\n      <td>5,118,422</td>\n      <td>2.774293</td>\n    </tr>\n    <tr>\n      <th>39</th>\n      <td>South Dakota</td>\n      <td>SD</td>\n      <td>153</td>\n      <td>3,802</td>\n      <td>886,668</td>\n      <td>1.725561</td>\n    </tr>\n    <tr>\n      <th>40</th>\n      <td>Tennessee</td>\n      <td>TN</td>\n      <td>2,100</td>\n      <td>51,053</td>\n      <td>6,910,786</td>\n      <td>3.038728</td>\n    </tr>\n    <tr>\n      <th>41</th>\n      <td>Texas</td>\n      <td>TX</td>\n      <td>20,117</td>\n      <td>600,809</td>\n      <td>29,145,459</td>\n      <td>6.902276</td>\n    </tr>\n    <tr>\n      <th>42</th>\n      <td>Utah</td>\n      <td>UT</td>\n      <td>632</td>\n      <td>14,650</td>\n      <td>3,271,614</td>\n      <td>1.931768</td>\n    </tr>\n    <tr>\n      <th>43</th>\n      <td>Vermont</td>\n      <td>VT</td>\n      <td>467</td>\n      <td>41,301</td>\n      <td>643,077</td>\n      <td>7.261961</td>\n    </tr>\n    <tr>\n      <th>44</th>\n      <td>Virginia</td>\n      <td>VA</td>\n      <td>3,055</td>\n      <td>92,292</td>\n      <td>8,631,373</td>\n      <td>3.539414</td>\n    </tr>\n    <tr>\n      <th>45</th>\n      <td>Washington</td>\n      <td>WA</td>\n      <td>5,465</td>\n      <td>216,860</td>\n      <td>7,705,267</td>\n      <td>7.092551</td>\n    </tr>\n    <tr>\n      <th>46</th>\n      <td>West Virginia</td>\n      <td>WV</td>\n      <td>137</td>\n      <td>2,199</td>\n      <td>1,793,713</td>\n      <td>0.763779</td>\n    </tr>\n    <tr>\n      <th>47</th>\n      <td>Wisconsin</td>\n      <td>WI</td>\n      <td>2,456</td>\n      <td>86,240</td>\n      <td>5,893,713</td>\n      <td>4.167152</td>\n    </tr>\n    <tr>\n      <th>48</th>\n      <td>Wyoming</td>\n      <td>WY</td>\n      <td>616</td>\n      <td>152,097</td>\n      <td>576,850</td>\n      <td>10.678686</td>\n    </tr>\n  </tbody>\n</table>\n</div>"
          },
          "metadata": {}
        }
      ],
      "execution_count": 23
    },
    {
      "cell_type": "code",
      "source": "",
      "metadata": {
        "trusted": true
      },
      "outputs": [],
      "execution_count": null
    }
  ]
}